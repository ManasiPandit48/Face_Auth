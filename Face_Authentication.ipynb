{
  "cells": [
    {
      "cell_type": "code",
      "execution_count": 1,
      "metadata": {
        "colab": {
          "base_uri": "https://localhost:8080/"
        },
        "id": "FGOoRHSp-rgg",
        "outputId": "055efd3d-56b4-4c41-dc2c-0270d9d4482f"
      },
      "outputs": [
        {
          "output_type": "stream",
          "name": "stdout",
          "text": [
            "Dataset URL: https://www.kaggle.com/datasets/vasukipatel/face-recognition-dataset\n",
            "License(s): CC0-1.0\n",
            "Downloading face-recognition-dataset.zip to /content\n",
            "100% 725M/726M [00:03<00:00, 275MB/s]\n",
            "100% 726M/726M [00:03<00:00, 248MB/s]\n"
          ]
        }
      ],
      "source": [
        "!kaggle datasets download -d vasukipatel/face-recognition-dataset"
      ]
    },
    {
      "cell_type": "code",
      "execution_count": 2,
      "metadata": {
        "id": "PJARfRxE-xjx"
      },
      "outputs": [],
      "source": [
        "#Unzip the dataset\n",
        "import zipfile\n",
        "with zipfile.ZipFile('/content/face-recognition-dataset.zip', 'r') as zip_ref:\n",
        "    zip_ref.extractall('/content/dataset')"
      ]
    },
    {
      "cell_type": "code",
      "execution_count": 3,
      "metadata": {
        "id": "-avhMolG_ufy"
      },
      "outputs": [],
      "source": [
        "import os\n",
        "import shutil\n",
        "import numpy as np\n",
        "import pandas as pd\n",
        "import cv2"
      ]
    },
    {
      "cell_type": "code",
      "execution_count": 4,
      "metadata": {
        "id": "rgc_DICA_-jC"
      },
      "outputs": [],
      "source": [
        "# Paths to the face_images folder\n",
        "original_images_folder = '/content/dataset/Faces/Faces'\n",
        "\n",
        "new_images_folder = '/content/data'\n",
        "\n",
        "\n",
        "if not os.path.exists(new_images_folder):\n",
        "    os.makedirs(new_images_folder)\n",
        "\n",
        "# List all files in the original directory\n",
        "files = os.listdir(original_images_folder)\n",
        "\n",
        "unique_names = set()\n",
        "\n",
        "# Extract unique names from the file names\n",
        "for file in files:\n",
        "    if file.endswith('.jpg'):\n",
        "        name_part = file.rsplit('_', 2)[0]\n",
        "        unique_names.add(name_part)\n",
        "\n",
        "# Create directories for each unique name in the new folder and copy files\n",
        "for name in unique_names:\n",
        "    name_dir = os.path.join(new_images_folder, name, 'faces')\n",
        "    if not os.path.exists(name_dir):\n",
        "        os.makedirs(name_dir)\n",
        "\n",
        "    for file in files:\n",
        "        if file.startswith(name):\n",
        "            shutil.copy(os.path.join(original_images_folder, file), os.path.join(name_dir, file))"
      ]
    },
    {
      "cell_type": "code",
      "execution_count": 5,
      "metadata": {
        "id": "O8t6_spxAFKi"
      },
      "outputs": [],
      "source": [
        "from tensorflow.keras.preprocessing.image import ImageDataGenerator\n",
        "from sklearn.model_selection import train_test_split\n",
        "from tensorflow.keras.models import Model\n",
        "from tensorflow.keras.layers import Dense, Input, Lambda, BatchNormalization, GlobalAveragePooling2D\n",
        "from tensorflow.keras.applications import InceptionResNetV2\n",
        "from tensorflow.keras.optimizers import Adam\n",
        "from tensorflow.keras.utils import to_categorical\n",
        "from tensorflow.keras.callbacks import ReduceLROnPlateau, EarlyStopping\n",
        "import tensorflow.keras.backend as K"
      ]
    },
    {
      "cell_type": "code",
      "execution_count": 6,
      "metadata": {
        "colab": {
          "base_uri": "https://localhost:8080/"
        },
        "collapsed": true,
        "id": "bozZUfHSAIaI",
        "outputId": "d83e70ea-7134-4417-8856-8b7f9f5668ea"
      },
      "outputs": [
        {
          "output_type": "stream",
          "name": "stdout",
          "text": [
            "Original data shape: (2562, 160, 160, 3)\n"
          ]
        }
      ],
      "source": [
        "# Data Preprocessing\n",
        "def resize_and_normalize_image(image, size=(160, 160)):\n",
        "    img = cv2.resize(image, size)\n",
        "    img = cv2.cvtColor(img, cv2.COLOR_BGR2RGB)  # Convert to RGB\n",
        "    img = img.astype('float32') / 255.0\n",
        "    return img\n",
        "\n",
        "# Load and preprocess data\n",
        "source_dir = '/content/data'\n",
        "person_names = os.listdir(source_dir)\n",
        "class_mapping = {name: idx for idx, name in enumerate(person_names)}\n",
        "\n",
        "face_images = []\n",
        "labels = []\n",
        "\n",
        "for name in person_names:\n",
        "    img_dir_path = os.path.join(source_dir, name, 'faces')\n",
        "    img_list = os.listdir(img_dir_path)\n",
        "    for img in img_list:\n",
        "        img_path = os.path.join(img_dir_path, img)\n",
        "        image = cv2.imread(img_path)\n",
        "        face_images.append(resize_and_normalize_image(image))\n",
        "        labels.append(class_mapping[name])\n",
        "\n",
        "face_images = np.array(face_images)\n",
        "labels = np.array(labels)\n",
        "\n",
        "print('Original data shape:', face_images.shape)\n",
        "\n"
      ]
    },
    {
      "cell_type": "code",
      "execution_count": 7,
      "metadata": {
        "id": "qDzwE66oCgH_"
      },
      "outputs": [],
      "source": [
        "# Data augmentation\n",
        "datagen = ImageDataGenerator(\n",
        "    rotation_range=20,\n",
        "    width_shift_range=0.2,\n",
        "    height_shift_range=0.2,\n",
        "    shear_range=0.2,\n",
        "    zoom_range=0.2,\n",
        "    horizontal_flip=True,\n",
        "    fill_mode='nearest'\n",
        ")\n"
      ]
    },
    {
      "cell_type": "code",
      "execution_count": 8,
      "metadata": {
        "colab": {
          "base_uri": "https://localhost:8080/"
        },
        "id": "EvFF3giUCqFn",
        "outputId": "6d807f28-9901-4227-ff82-d27993faad29"
      },
      "outputs": [
        {
          "output_type": "stream",
          "name": "stdout",
          "text": [
            "Augmented data shape: (12810, 160, 160, 3)\n"
          ]
        }
      ],
      "source": [
        "# Generate augmented data\n",
        "batch_size = 32\n",
        "augmented_images = []\n",
        "augmented_labels = []\n",
        "\n",
        "for x_batch, y_batch in datagen.flow(face_images, labels, batch_size=batch_size):\n",
        "    augmented_images.extend(x_batch)\n",
        "    augmented_labels.extend(y_batch)\n",
        "    if len(augmented_images) >= len(face_images) * 5:  # Augmentation factor\n",
        "        break\n",
        "\n",
        "augmented_images = np.array(augmented_images)\n",
        "augmented_labels = np.array(augmented_labels)\n",
        "\n",
        "print('Augmented data shape:', augmented_images.shape)"
      ]
    },
    {
      "cell_type": "code",
      "execution_count": 9,
      "metadata": {
        "id": "bnQur7xKCjXv",
        "colab": {
          "base_uri": "https://localhost:8080/"
        },
        "outputId": "df16969b-63fc-4d48-bcfb-b08b1dfe215a"
      },
      "outputs": [
        {
          "output_type": "stream",
          "name": "stdout",
          "text": [
            "Combined data shape: (15372, 160, 160, 3)\n"
          ]
        }
      ],
      "source": [
        "# Combine original and augmented data\n",
        "combined_images = np.concatenate((face_images, augmented_images), axis=0)\n",
        "combined_labels = np.concatenate((labels, augmented_labels), axis=0)\n",
        "\n",
        "print('Combined data shape:', combined_images.shape)\n",
        "\n",
        "# Convert labels to categorical\n",
        "num_classes = len(person_names)\n",
        "combined_labels = to_categorical(combined_labels, num_classes=num_classes)\n",
        "\n",
        "# Split data into training and validation sets\n",
        "X_train_face, X_val_face, y_train_face, y_val_face = train_test_split(combined_images, combined_labels, test_size=0.2, random_state=42)\n"
      ]
    },
    {
      "cell_type": "code",
      "execution_count": 10,
      "metadata": {
        "id": "AGF-n5ocAPfq",
        "colab": {
          "base_uri": "https://localhost:8080/"
        },
        "outputId": "6a3aed1c-5b73-4ba5-fdc7-45382044eec5"
      },
      "outputs": [
        {
          "output_type": "stream",
          "name": "stdout",
          "text": [
            "Downloading data from https://storage.googleapis.com/tensorflow/keras-applications/inception_resnet_v2/inception_resnet_v2_weights_tf_dim_ordering_tf_kernels_notop.h5\n",
            "219055592/219055592 [==============================] - 1s 0us/step\n"
          ]
        }
      ],
      "source": [
        "# Build and fine-tune FaceNet model\n",
        "def create_facenet_model():\n",
        "    base_model = InceptionResNetV2(include_top=False, input_shape=(160, 160, 3), weights='imagenet')\n",
        "    input = Input(shape=(160, 160, 3))\n",
        "    x = base_model(input)\n",
        "    x = GlobalAveragePooling2D()(x)\n",
        "    x = Lambda(lambda x: K.l2_normalize(x, axis=1))(x)\n",
        "    model = Model(input, x)\n",
        "    return model\n",
        "\n",
        "facenet_model = create_facenet_model()\n",
        "for layer in facenet_model.layers[:-20]:  # Fine-tuning layers\n",
        "    layer.trainable = False"
      ]
    },
    {
      "cell_type": "code",
      "source": [
        "# Build the model with the correct architecture\n",
        "def build_model_with_classification_head(base_model, num_classes):\n",
        "    x = base_model.output\n",
        "    x = GlobalAveragePooling2D()(x)\n",
        "    x = Dense(512, activation='relu')(x)\n",
        "    x = BatchNormalization()(x)\n",
        "    predictions = Dense(num_classes, activation='softmax')(x)\n",
        "    return Model(inputs=base_model.input, outputs=predictions)\n",
        "\n",
        "\n",
        "num_classes = 31\n",
        "\n",
        "# Callbacks for training\n",
        "reduce_lr = ReduceLROnPlateau(monitor='val_loss', factor=0.2, patience=5, min_lr=1e-6, verbose=1)\n",
        "early_stopping = EarlyStopping(monitor='val_loss', patience=3, restore_best_weights=True, verbose=1)\n",
        "\n",
        "# Instantiate base model without top layers\n",
        "facenet_base = InceptionResNetV2(include_top=False, input_shape=(160, 160, 3), weights='imagenet')\n",
        "\n",
        "facenet_model_with_head = build_model_with_classification_head(facenet_base, num_classes)"
      ],
      "metadata": {
        "id": "_ysbckdyFUcd"
      },
      "execution_count": 11,
      "outputs": []
    },
    {
      "cell_type": "code",
      "source": [
        "# Train and get predictions\n",
        "def train_model_and_predict(model, X_train_face, y_train_face, X_val_face, y_val_face):\n",
        "    model.compile(optimizer=Adam(learning_rate=0.0001),\n",
        "                  loss='categorical_crossentropy',\n",
        "                  metrics=['accuracy'])\n",
        "\n",
        "    model.fit(X_train_face, y_train_face,\n",
        "              epochs=4,\n",
        "              batch_size=32,\n",
        "              validation_data=(X_val_face, y_val_face),\n",
        "              callbacks=[reduce_lr, early_stopping])\n",
        "\n",
        "    val_predictions = model.predict(X_val_face)\n",
        "\n",
        "    # Get the validation accuracy\n",
        "    _, accuracy = model.evaluate(X_val_face, y_val_face)\n",
        "    return val_predictions, accuracy\n",
        "\n",
        "\n",
        "val_preds_facenet, acc_facenet = train_model_and_predict(facenet_model_with_head, X_train_face, y_train_face, X_val_face, y_val_face)\n"
      ],
      "metadata": {
        "id": "LbDNEyGrFcwE",
        "colab": {
          "base_uri": "https://localhost:8080/"
        },
        "outputId": "85174f77-ab7c-4db2-c355-be42bd611a8c"
      },
      "execution_count": 12,
      "outputs": [
        {
          "output_type": "stream",
          "name": "stdout",
          "text": [
            "Epoch 1/4\n",
            "385/385 [==============================] - 580s 1s/step - loss: 0.9976 - accuracy: 0.7307 - val_loss: 1.2636 - val_accuracy: 0.8228 - lr: 1.0000e-04\n",
            "Epoch 2/4\n",
            "385/385 [==============================] - 522s 1s/step - loss: 0.0484 - accuracy: 0.9911 - val_loss: 0.7811 - val_accuracy: 0.9685 - lr: 1.0000e-04\n",
            "Epoch 3/4\n",
            "385/385 [==============================] - 521s 1s/step - loss: 0.0110 - accuracy: 0.9995 - val_loss: 0.7295 - val_accuracy: 0.9779 - lr: 1.0000e-04\n",
            "Epoch 4/4\n",
            "385/385 [==============================] - 521s 1s/step - loss: 0.0053 - accuracy: 0.9995 - val_loss: 0.5310 - val_accuracy: 0.9785 - lr: 1.0000e-04\n",
            "97/97 [==============================] - 34s 319ms/step\n",
            "97/97 [==============================] - 31s 317ms/step - loss: 0.5310 - accuracy: 0.9785\n"
          ]
        }
      ]
    },
    {
      "cell_type": "code",
      "source": [
        "# Evaluate the final accuracy\n",
        "ensemble_accuracy = np.mean(np.argmax(val_preds_facenet, axis=1) == np.argmax(y_val_face, axis=1))\n",
        "print(f'FaceNet Model Validation Accuracy: {ensemble_accuracy * 100:.2f}%')"
      ],
      "metadata": {
        "id": "WraYjv_6Fe6S",
        "colab": {
          "base_uri": "https://localhost:8080/"
        },
        "outputId": "9786f37b-b93d-485d-d199-0d3eb1e45d20"
      },
      "execution_count": 13,
      "outputs": [
        {
          "output_type": "stream",
          "name": "stdout",
          "text": [
            "FaceNet Model Validation Accuracy: 97.85%\n"
          ]
        }
      ]
    },
    {
      "cell_type": "code",
      "execution_count": 14,
      "metadata": {
        "id": "Y18D7EBEARw7",
        "colab": {
          "base_uri": "https://localhost:8080/"
        },
        "outputId": "0f387e50-65b6-4ea9-a310-700a15387dbf"
      },
      "outputs": [
        {
          "output_type": "stream",
          "name": "stderr",
          "text": [
            "/usr/local/lib/python3.10/dist-packages/keras/src/engine/training.py:3103: UserWarning: You are saving your model as an HDF5 file via `model.save()`. This file format is considered legacy. We recommend using instead the native Keras format, e.g. `model.save('my_model.keras')`.\n",
            "  saving_api.save_model(\n"
          ]
        }
      ],
      "source": [
        "# After training your model\n",
        "facenet_model_with_head.save('model.h5')"
      ]
    },
    {
      "cell_type": "code",
      "source": [
        "import tensorflow as tf\n",
        "\n",
        "# Step 1: Load the saved model\n",
        "model = tf.keras.models.load_model('/content/model.h5')\n",
        "\n",
        "# Step 2: Create a TFLiteConverter object\n",
        "converter = tf.lite.TFLiteConverter.from_keras_model(model)\n",
        "\n",
        "# Optional: Set optimization parameters\n",
        "# converter.optimizations = [tf.lite.Optimize.DEFAULT]\n",
        "\n",
        "# Step 3: Convert the model to TensorFlow Lite format\n",
        "tflite_model = converter.convert()\n",
        "\n",
        "# Step 4: Save the TFLite model to a file\n",
        "with open('model.tflite', 'wb') as f:\n",
        "    f.write(tflite_model)\n"
      ],
      "metadata": {
        "id": "bzrL__phpBnk"
      },
      "execution_count": 15,
      "outputs": []
    },
    {
      "cell_type": "code",
      "source": [
        "import tensorflow as tf\n",
        "\n",
        "# Step 1: Load the saved model\n",
        "model = tf.keras.models.load_model('model.h5')\n",
        "\n",
        "# Step 2: Create a TFLiteConverter object\n",
        "converter = tf.lite.TFLiteConverter.from_keras_model(model)\n",
        "\n",
        "# Optional: Set optimization parameters\n",
        "converter.optimizations = [tf.lite.Optimize.DEFAULT]\n",
        "\n",
        "# Additional options:\n",
        "converter.target_spec.supported_types = [tf.float16]  # To use 16-bit float quantization\n",
        "\n",
        "# Step 3: Convert the model to TensorFlow Lite format\n",
        "tflite_model = converter.convert()\n",
        "\n",
        "# Step 4: Save the TFLite model to a file\n",
        "with open('model-1.tflite', 'wb') as f:\n",
        "    f.write(tflite_model)\n"
      ],
      "metadata": {
        "id": "egakp3PV4Zks"
      },
      "execution_count": 16,
      "outputs": []
    },
    {
      "cell_type": "code",
      "source": [
        "# Load the TFLite model\n",
        "interpreter = tf.lite.Interpreter(model_path='/content/model.tflite')\n",
        "interpreter.allocate_tensors()\n",
        "\n",
        "# Get input and output tensor details\n",
        "input_details = interpreter.get_input_details()\n",
        "output_details = interpreter.get_output_details()\n",
        "\n",
        "# Example of running inference\n",
        "import numpy as np\n",
        "\n",
        "# Create a dummy input array (replace with actual input)\n",
        "input_data = np.random.random_sample(input_details[0]['shape']).astype(np.float32)\n",
        "interpreter.set_tensor(input_details[0]['index'], input_data)\n",
        "\n",
        "# Run the model\n",
        "interpreter.invoke()\n",
        "\n",
        "# Get the result\n",
        "output_data = interpreter.get_tensor(output_details[0]['index'])\n",
        "print(output_data)\n"
      ],
      "metadata": {
        "colab": {
          "base_uri": "https://localhost:8080/"
        },
        "id": "-i_VuzdV6EbH",
        "outputId": "0c54556d-957c-4142-ffc1-df1358175b70"
      },
      "execution_count": 17,
      "outputs": [
        {
          "output_type": "stream",
          "name": "stdout",
          "text": [
            "[[2.1557909e-05 6.8285817e-06 1.4715434e-04 1.5918932e-06 2.8239070e-08\n",
            "  5.6449685e-04 2.8206839e-05 1.1404785e-06 1.9638568e-05 3.3203778e-05\n",
            "  1.8976635e-03 3.5929075e-05 9.7846609e-01 7.0237031e-04 7.4742257e-04\n",
            "  4.6042736e-05 6.1955680e-03 1.8244056e-03 2.0118019e-05 1.0853497e-03\n",
            "  5.6091504e-04 1.1463320e-08 9.1725291e-05 2.0753305e-05 1.2841335e-06\n",
            "  4.0765393e-05 3.5713721e-05 3.0704905e-05 4.2719457e-06 2.9117714e-03\n",
            "  4.4572111e-03]]\n"
          ]
        }
      ]
    },
    {
      "cell_type": "code",
      "source": [
        "import numpy as np\n",
        "import tensorflow as tf\n",
        "\n",
        "# Load the TFLite model\n",
        "interpreter = tf.lite.Interpreter(model_path='model.tflite')\n",
        "interpreter.allocate_tensors()\n",
        "\n",
        "# Get input and output tensor details\n",
        "input_details = interpreter.get_input_details()\n",
        "output_details = interpreter.get_output_details()\n",
        "\n",
        "# Create a dummy input array (replace with actual input data)\n",
        "input_data = np.random.random_sample(input_details[0]['shape']).astype(np.float32)\n",
        "interpreter.set_tensor(input_details[0]['index'], input_data)\n",
        "\n",
        "# Run the model\n",
        "interpreter.invoke()\n",
        "\n",
        "# Get the result\n",
        "output_data = interpreter.get_tensor(output_details[0]['index'])\n",
        "print(output_data)\n"
      ],
      "metadata": {
        "colab": {
          "base_uri": "https://localhost:8080/"
        },
        "id": "W6C8oXCh8Vfg",
        "outputId": "ad9c8ca4-61bd-4726-fa20-b8ce05aad995"
      },
      "execution_count": 18,
      "outputs": [
        {
          "output_type": "stream",
          "name": "stdout",
          "text": [
            "[[1.5889475e-03 1.5015702e-05 5.3920357e-05 4.5327533e-07 5.9768045e-06\n",
            "  5.7658559e-04 4.5465361e-04 2.1068887e-07 9.3717819e-05 9.1070360e-05\n",
            "  5.4203771e-05 2.6193142e-05 7.6109344e-01 1.8611798e-04 1.2747197e-05\n",
            "  1.3016048e-04 1.9230980e-01 9.1376901e-04 4.5246037e-07 3.8029291e-02\n",
            "  9.5927375e-05 3.0277796e-08 1.4208921e-05 5.7455630e-04 3.7945911e-06\n",
            "  3.6776139e-05 1.4048405e-05 3.6533995e-04 2.0429562e-04 1.1990728e-03\n",
            "  1.8552087e-03]]\n"
          ]
        }
      ]
    },
    {
      "cell_type": "code",
      "source": [
        "print(\"Sum of probabilities:\", np.sum(output_data))\n"
      ],
      "metadata": {
        "colab": {
          "base_uri": "https://localhost:8080/"
        },
        "id": "UJK3_6gy-mfG",
        "outputId": "b2522f20-f919-4bd8-83ea-c2e56e2db785"
      },
      "execution_count": 20,
      "outputs": [
        {
          "output_type": "stream",
          "name": "stdout",
          "text": [
            "Sum of probabilities: 1.0\n"
          ]
        }
      ]
    },
    {
      "cell_type": "code",
      "source": [
        "predicted_class = np.argmax(output_data)\n",
        "print(\"Predicted class:\", predicted_class)\n"
      ],
      "metadata": {
        "colab": {
          "base_uri": "https://localhost:8080/"
        },
        "id": "3uWyBXVX-XhC",
        "outputId": "67c82ad9-5eac-4f5c-fb0f-541065208584"
      },
      "execution_count": 19,
      "outputs": [
        {
          "output_type": "stream",
          "name": "stdout",
          "text": [
            "Predicted class: 12\n"
          ]
        }
      ]
    },
    {
      "cell_type": "code",
      "source": [
        "# Load original Keras model\n",
        "original_model = tf.keras.models.load_model('model.h5')\n",
        "\n",
        "# Run inference with the original model\n",
        "original_output = original_model.predict(input_data)\n",
        "\n",
        "# Compare outputs\n",
        "print(\"Original model output:\", original_output)\n",
        "print(\"TFLite model output:\", output_data)\n"
      ],
      "metadata": {
        "colab": {
          "base_uri": "https://localhost:8080/"
        },
        "id": "ctihSGzh-a_a",
        "outputId": "2c94972c-60bb-4bf0-ed96-a46326f8eea9"
      },
      "execution_count": 21,
      "outputs": [
        {
          "output_type": "stream",
          "name": "stdout",
          "text": [
            "1/1 [==============================] - 3s 3s/step\n",
            "Original model output: [[1.58896612e-03 1.50157184e-05 5.39200155e-05 4.53274168e-07\n",
            "  5.97700000e-06 5.76581049e-04 4.54663474e-04 2.10686153e-07\n",
            "  9.37190125e-05 9.10701201e-05 5.42007365e-05 2.61925234e-05\n",
            "  7.61091411e-01 1.86111633e-04 1.27469684e-05 1.30159271e-04\n",
            "  1.92311853e-01 9.13748692e-04 4.52444937e-07 3.80293019e-02\n",
            "  9.59252939e-05 3.02768477e-08 1.42087765e-05 5.74551756e-04\n",
            "  3.79463154e-06 3.67757275e-05 1.40483016e-05 3.65331478e-04\n",
            "  2.04298398e-04 1.19905593e-03 1.85518339e-03]]\n",
            "TFLite model output: [[1.5889475e-03 1.5015702e-05 5.3920357e-05 4.5327533e-07 5.9768045e-06\n",
            "  5.7658559e-04 4.5465361e-04 2.1068887e-07 9.3717819e-05 9.1070360e-05\n",
            "  5.4203771e-05 2.6193142e-05 7.6109344e-01 1.8611798e-04 1.2747197e-05\n",
            "  1.3016048e-04 1.9230980e-01 9.1376901e-04 4.5246037e-07 3.8029291e-02\n",
            "  9.5927375e-05 3.0277796e-08 1.4208921e-05 5.7455630e-04 3.7945911e-06\n",
            "  3.6776139e-05 1.4048405e-05 3.6533995e-04 2.0429562e-04 1.1990728e-03\n",
            "  1.8552087e-03]]\n"
          ]
        }
      ]
    },
    {
      "cell_type": "code",
      "source": [
        "import numpy as np\n",
        "import tensorflow as tf\n",
        "\n",
        "# Load the Keras model\n",
        "keras_model = tf.keras.models.load_model('model.h5')\n",
        "\n",
        "# Load the TFLite model\n",
        "interpreter = tf.lite.Interpreter(model_path='model.tflite')\n",
        "interpreter.allocate_tensors()\n",
        "\n",
        "# Get input and output tensor details\n",
        "input_details = interpreter.get_input_details()\n",
        "output_details = interpreter.get_output_details()\n",
        "\n",
        "# Create a dummy input array with the correct shape\n",
        "# Ensure input_data shape is (160, 160, 3) for a single image\n",
        "input_data = np.random.random_sample((160, 160, 3)).astype(np.float32)\n",
        "\n",
        "# Add batch dimension for TFLite\n",
        "input_data_tflite = np.expand_dims(input_data, axis=0)\n",
        "\n",
        "# Make sure the input shape is correct for the Keras model\n",
        "input_data_keras = np.expand_dims(input_data, axis=0)  # Add batch dimension (only once)\n",
        "\n",
        "# Predict with Keras model\n",
        "keras_prediction = keras_model.predict(input_data_keras)\n",
        "\n",
        "# Predict with TFLite model\n",
        "interpreter.set_tensor(input_details[0]['index'], input_data_tflite) # Use input_data_tflite here\n",
        "interpreter.invoke()\n",
        "tflite_prediction = interpreter.get_tensor(output_details[0]['index'])\n",
        "\n",
        "print(\"Keras model prediction:\", keras_prediction)\n",
        "print(\"TFLite model prediction:\", tflite_prediction)"
      ],
      "metadata": {
        "colab": {
          "base_uri": "https://localhost:8080/"
        },
        "id": "j64ORpAB-wuf",
        "outputId": "1df3401b-0cf7-4863-f82f-c9311e7fc454"
      },
      "execution_count": 28,
      "outputs": [
        {
          "output_type": "stream",
          "name": "stdout",
          "text": [
            "1/1 [==============================] - 3s 3s/step\n",
            "Keras model prediction: [[2.9164046e-04 9.0066926e-05 6.6199165e-04 8.9433415e-06 4.2260967e-07\n",
            "  1.5867343e-03 1.0219410e-04 1.3584157e-06 7.5390286e-05 1.0327111e-04\n",
            "  9.2652971e-03 1.3294246e-04 8.8759500e-01 2.3039603e-03 1.3691420e-02\n",
            "  9.0405176e-04 3.7549458e-02 7.5218296e-03 7.5538257e-05 5.6533450e-03\n",
            "  3.8195576e-04 9.9226362e-08 1.5293938e-04 2.1145988e-04 4.5476980e-05\n",
            "  1.4197070e-04 1.4950898e-04 2.0639699e-04 4.9148195e-05 1.4112021e-02\n",
            "  1.6934240e-02]]\n",
            "TFLite model prediction: [[2.9164940e-04 9.0066751e-05 6.6198863e-04 8.9436580e-06 4.2261294e-07\n",
            "  1.5867178e-03 1.0219751e-04 1.3584093e-06 7.5392236e-05 1.0327150e-04\n",
            "  9.2653474e-03 1.3294574e-04 8.8759422e-01 2.3040001e-03 1.3691055e-02\n",
            "  9.0407801e-04 3.7549701e-02 7.5221742e-03 7.5538119e-05 5.6535359e-03\n",
            "  3.8196196e-04 9.9226845e-08 1.5293776e-04 2.1146292e-04 4.5478890e-05\n",
            "  1.4197045e-04 1.4950644e-04 2.0640212e-04 4.9149181e-05 1.4112203e-02\n",
            "  1.6934127e-02]]\n"
          ]
        }
      ]
    },
    {
      "cell_type": "code",
      "source": [
        "print(\"Probabilities for all classes:\", output_data)\n"
      ],
      "metadata": {
        "colab": {
          "base_uri": "https://localhost:8080/"
        },
        "id": "JkTfNrtpMdO1",
        "outputId": "844b5d5d-d654-4452-a8da-356a4b9a095f"
      },
      "execution_count": 25,
      "outputs": [
        {
          "output_type": "stream",
          "name": "stdout",
          "text": [
            "Probabilities for all classes: [[1.5889475e-03 1.5015702e-05 5.3920357e-05 4.5327533e-07 5.9768045e-06\n",
            "  5.7658559e-04 4.5465361e-04 2.1068887e-07 9.3717819e-05 9.1070360e-05\n",
            "  5.4203771e-05 2.6193142e-05 7.6109344e-01 1.8611798e-04 1.2747197e-05\n",
            "  1.3016048e-04 1.9230980e-01 9.1376901e-04 4.5246037e-07 3.8029291e-02\n",
            "  9.5927375e-05 3.0277796e-08 1.4208921e-05 5.7455630e-04 3.7945911e-06\n",
            "  3.6776139e-05 1.4048405e-05 3.6533995e-04 2.0429562e-04 1.1990728e-03\n",
            "  1.8552087e-03]]\n"
          ]
        }
      ]
    },
    {
      "cell_type": "code",
      "source": [
        "import numpy as np\n",
        "import matplotlib.pyplot as plt\n",
        "\n",
        "# Assuming keras_prediction and tflite_prediction are your outputs\n",
        "difference = np.abs(keras_prediction - tflite_prediction)\n",
        "\n",
        "# Plot the differences\n",
        "plt.figure(figsize=(12, 6))\n",
        "plt.bar(range(len(difference[0])), difference[0])\n",
        "plt.xlabel('Class')\n",
        "plt.ylabel('Absolute Difference')\n",
        "plt.title('Absolute Difference Between Keras and TFLite Model Predictions')\n",
        "plt.show()\n"
      ],
      "metadata": {
        "colab": {
          "base_uri": "https://localhost:8080/",
          "height": 564
        },
        "id": "9RIn_D2yNw8u",
        "outputId": "a1832a7a-a352-4a8e-82a4-dc356430c8f0"
      },
      "execution_count": 31,
      "outputs": [
        {
          "output_type": "display_data",
          "data": {
            "text/plain": [
              "<Figure size 1200x600 with 1 Axes>"
            ],
            "image/png": "[encoded data removed]"
          },
          "metadata": {}
        }
      ]
    },
    {
      "cell_type": "code",
      "source": [
        "# Plot class probabilities for Keras model\n",
        "plt.figure(figsize=(12, 6))\n",
        "plt.plot(keras_prediction[0], label='Keras Model')\n",
        "plt.plot(tflite_prediction[0], label='TFLite Model', linestyle='dashed')\n",
        "plt.xlabel('Class')\n",
        "plt.ylabel('Probability')\n",
        "plt.title('Class Probabilities Comparison')\n",
        "plt.legend()\n",
        "plt.show()\n"
      ],
      "metadata": {
        "colab": {
          "base_uri": "https://localhost:8080/",
          "height": 564
        },
        "id": "QsXi5HxIPI2w",
        "outputId": "7d3bdc55-67d7-444b-a362-23adb87e792c"
      },
      "execution_count": 32,
      "outputs": [
        {
          "output_type": "display_data",
          "data": {
            "text/plain": [
              "<Figure size 1200x600 with 1 Axes>"
            ],
            "image/png": "[encoded data removed]"
          },
          "metadata": {}
        }
      ]
    },
    {
      "cell_type": "code",
      "source": [
        "from sklearn.metrics import mean_squared_error\n",
        "\n",
        "# Calculate MSE\n",
        "mse = mean_squared_error(keras_predictions_flat, tflite_predictions_flat)\n",
        "print(f\"Mean Squared Error (MSE): {mse:.5f}\")\n"
      ],
      "metadata": {
        "colab": {
          "base_uri": "https://localhost:8080/"
        },
        "id": "N_nhQWFXPToC",
        "outputId": "3cd6ef60-36b2-47e9-8285-3d8ea8d72d14"
      },
      "execution_count": 39,
      "outputs": [
        {
          "output_type": "stream",
          "name": "stdout",
          "text": [
            "Mean Squared Error (MSE): 0.00000\n"
          ]
        }
      ]
    },
    {
      "cell_type": "code",
      "source": [
        "import numpy as np\n",
        "import tensorflow as tf\n",
        "import matplotlib.pyplot as plt\n",
        "from sklearn.metrics import mean_squared_error, mean_absolute_error\n",
        "\n",
        "# Load models\n",
        "keras_model = tf.keras.models.load_model('model.h5')\n",
        "interpreter = tf.lite.Interpreter(model_path='model.tflite')\n",
        "interpreter.allocate_tensors()\n",
        "\n",
        "# Get tensor details\n",
        "input_details = interpreter.get_input_details()\n",
        "output_details = interpreter.get_output_details()\n",
        "\n",
        "# Define a function to make predictions\n",
        "def predict_with_models(input_data):\n",
        "    # Keras model prediction\n",
        "    keras_prediction = keras_model.predict(np.expand_dims(input_data, axis=0))\n",
        "\n",
        "    # TFLite model prediction\n",
        "    interpreter.set_tensor(input_details[0]['index'], np.expand_dims(input_data, axis=0))\n",
        "    interpreter.invoke()\n",
        "    tflite_prediction = interpreter.get_tensor(output_details[0]['index'])\n",
        "\n",
        "    return keras_prediction, tflite_prediction\n",
        "\n",
        "# Generate test input data\n",
        "test_input = np.random.random_sample((160, 160, 3)).astype(np.float32)\n",
        "\n",
        "# Make predictions\n",
        "keras_pred, tflite_pred = predict_with_models(test_input)\n",
        "\n",
        "# Flatten predictions\n",
        "keras_pred_flat = keras_pred.flatten()\n",
        "tflite_pred_flat = tflite_pred.flatten()\n",
        "\n",
        "# Calculate metrics\n",
        "mse = mean_squared_error(keras_pred_flat, tflite_pred_flat)\n",
        "mae = mean_absolute_error(keras_pred_flat, tflite_pred_flat)\n",
        "\n",
        "# Display results\n",
        "print(f\"Mean Squared Error (MSE): {mse:.5f}\")\n",
        "print(f\"Mean Absolute Error (MAE): {mae:.5f}\")\n",
        "\n",
        "# Visualize predictions\n",
        "plt.figure(figsize=(12, 6))\n",
        "plt.plot(keras_pred_flat, label='Keras Model')\n",
        "plt.plot(tflite_pred_flat, label='TFLite Model', linestyle='dashed')\n",
        "plt.xlabel('Class')\n",
        "plt.ylabel('Probability')\n",
        "plt.title('Class Probabilities Comparison')\n",
        "plt.legend()\n",
        "plt.show()\n"
      ],
      "metadata": {
        "colab": {
          "base_uri": "https://localhost:8080/",
          "height": 653
        },
        "id": "lwKlNO5dPp4R",
        "outputId": "afc6bacc-3b5f-4460-ad08-c444b117f4cb"
      },
      "execution_count": 40,
      "outputs": [
        {
          "output_type": "stream",
          "name": "stderr",
          "text": [
            "WARNING:tensorflow:5 out of the last 101 calls to <function Model.make_predict_function.<locals>.predict_function at 0x7ee325cd9900> triggered tf.function retracing. Tracing is expensive and the excessive number of tracings could be due to (1) creating @tf.function repeatedly in a loop, (2) passing tensors with different shapes, (3) passing Python objects instead of tensors. For (1), please define your @tf.function outside of the loop. For (2), @tf.function has reduce_retracing=True option that can avoid unnecessary retracing. For (3), please refer to https://www.tensorflow.org/guide/function#controlling_retracing and https://www.tensorflow.org/api_docs/python/tf/function for  more details.\n"
          ]
        },
        {
          "output_type": "stream",
          "name": "stdout",
          "text": [
            "1/1 [==============================] - 4s 4s/step\n",
            "Mean Squared Error (MSE): 0.00000\n",
            "Mean Absolute Error (MAE): 0.00000\n"
          ]
        },
        {
          "output_type": "display_data",
          "data": {
            "text/plain": [
              "<Figure size 1200x600 with 1 Axes>"
            ],
            "image/png": "[encoded data removed]"
          },
          "metadata": {}
        }
      ]
    },
    {
      "cell_type": "code",
      "source": [],
      "metadata": {
        "id": "st0EK13zPxwI"
      },
      "execution_count": null,
      "outputs": []
    }
  ],
  "metadata": {
    "accelerator": "TPU",
    "colab": {
      "gpuType": "V28",
      "provenance": []
    },
    "kernelspec": {
      "display_name": "Python 3",
      "name": "python3"
    },
    "language_info": {
      "name": "python"
    }
  },
  "nbformat": 4,
  "nbformat_minor": 0
}